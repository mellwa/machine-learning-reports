{
 "cells": [
  {
   "cell_type": "markdown",
   "metadata": {},
   "source": [
    "# Homework 5 - Chao Chen"
   ]
  },
  {
   "cell_type": "markdown",
   "metadata": {},
   "source": [
    "## Question 1 - Generative Models for Text"
   ]
  },
  {
   "cell_type": "markdown",
   "metadata": {},
   "source": [
    "### (c) \n",
    "#### i."
   ]
  },
  {
   "cell_type": "code",
   "execution_count": 83,
   "metadata": {},
   "outputs": [],
   "source": [
    "import os\n",
    "os.environ[\"THEANO_FLAGS\"] = \"mode=FAST_RUN,device=gpu,floatX=float32\"\n",
    "from keras import backend as K\n",
    "if K.backend()=='tensorflow':\n",
    "    K.set_image_dim_ordering(\"th\")"
   ]
  },
  {
   "cell_type": "code",
   "execution_count": 84,
   "metadata": {},
   "outputs": [],
   "source": [
    "filenames = ['books/1.txt']\n",
    "with open('result.txt', 'w') as outfile:\n",
    "    for fname in filenames:\n",
    "        with open(fname) as infile:\n",
    "            content = infile.read().replace('\\n', '')\n",
    "            outfile.write(content)"
   ]
  },
  {
   "cell_type": "code",
   "execution_count": 85,
   "metadata": {},
   "outputs": [
    {
     "name": "stdout",
     "output_type": "stream",
     "text": [
      "241115\n"
     ]
    }
   ],
   "source": [
    "result_file = 'result.txt'\n",
    "text = ''\n",
    "with open(result_file, 'r') as myfile:\n",
    "    text = myfile.read()\n",
    "print(len(text))"
   ]
  },
  {
   "cell_type": "markdown",
   "metadata": {},
   "source": [
    "#### ii."
   ]
  },
  {
   "cell_type": "code",
   "execution_count": 86,
   "metadata": {},
   "outputs": [],
   "source": [
    "import pandas as pd\n",
    "asc_array = [ord(c) for c in text if ord(c) < 256]"
   ]
  },
  {
   "cell_type": "markdown",
   "metadata": {},
   "source": [
    "#### iii."
   ]
  },
  {
   "cell_type": "code",
   "execution_count": 87,
   "metadata": {},
   "outputs": [],
   "source": [
    "W = 100"
   ]
  },
  {
   "cell_type": "markdown",
   "metadata": {},
   "source": [
    "#### iv. "
   ]
  },
  {
   "cell_type": "code",
   "execution_count": 88,
   "metadata": {},
   "outputs": [],
   "source": [
    "import numpy as np\n",
    "train_x = []\n",
    "train_y = []\n",
    "for i in range(0, len(asc_array)-W):\n",
    "    x = []\n",
    "    y = 0\n",
    "    for j in range(i, i+W):\n",
    "        if j == i+W-1:\n",
    "            y = asc_array[j]\n",
    "        else:\n",
    "            x.append(asc_array[j])\n",
    "    train_x.append(x)\n",
    "    train_y.append(y)\n",
    "# train_x = np.array(train_x)\n",
    "train_x = np.reshape(train_x, (len(train_x), len(train_x[0]), 1))\n",
    "train_x = train_x/float(256)"
   ]
  },
  {
   "cell_type": "code",
   "execution_count": 30,
   "metadata": {},
   "outputs": [
    {
     "data": {
      "text/plain": [
       "[114, 101, 103, 97, 114, 100, 32, 116, 111, 32]"
      ]
     },
     "execution_count": 30,
     "metadata": {},
     "output_type": "execute_result"
    }
   ],
   "source": [
    "train_y[:10]"
   ]
  },
  {
   "cell_type": "markdown",
   "metadata": {},
   "source": [
    "#### v."
   ]
  },
  {
   "cell_type": "code",
   "execution_count": 31,
   "metadata": {},
   "outputs": [
    {
     "data": {
      "text/plain": [
       "array([[0., 0., 0., ..., 0., 0., 0.],\n",
       "       [0., 0., 0., ..., 0., 0., 0.],\n",
       "       [0., 0., 0., ..., 0., 0., 0.],\n",
       "       ...,\n",
       "       [0., 0., 0., ..., 0., 0., 0.],\n",
       "       [0., 0., 0., ..., 0., 0., 0.],\n",
       "       [0., 0., 0., ..., 0., 0., 0.]])"
      ]
     },
     "execution_count": 31,
     "metadata": {},
     "output_type": "execute_result"
    }
   ],
   "source": [
    "from sklearn.preprocessing import OneHotEncoder\n",
    "enc = OneHotEncoder(n_values=256)\n",
    "train_y = np.reshape(train_y,(len(train_y), 1))\n",
    "enc.fit(train_y)\n",
    "one_hot_y = enc.transform(train_y).toarray()\n",
    "one_hot_y"
   ]
  },
  {
   "cell_type": "markdown",
   "metadata": {},
   "source": [
    "#### vi."
   ]
  },
  {
   "cell_type": "code",
   "execution_count": 32,
   "metadata": {},
   "outputs": [],
   "source": [
    "from tensorflow.keras.models import Model, Sequential\n",
    "from tensorflow.keras.layers import Input, Dense, LSTM"
   ]
  },
  {
   "cell_type": "code",
   "execution_count": 33,
   "metadata": {},
   "outputs": [],
   "source": [
    "model = Sequential()\n",
    "model.add(LSTM(256, input_shape=(train_x.shape[1], train_x.shape[2])))"
   ]
  },
  {
   "cell_type": "markdown",
   "metadata": {},
   "source": [
    "#### vii."
   ]
  },
  {
   "cell_type": "code",
   "execution_count": 34,
   "metadata": {},
   "outputs": [],
   "source": [
    "model.add(Dense(256, activation='softmax'))\n",
    "model.compile(loss='categorical_crossentropy', optimizer='adam')"
   ]
  },
  {
   "cell_type": "markdown",
   "metadata": {},
   "source": [
    "#### viii. & ix. & x."
   ]
  },
  {
   "cell_type": "code",
   "execution_count": 35,
   "metadata": {},
   "outputs": [],
   "source": [
    "from tensorflow.keras.callbacks import ModelCheckpoint\n",
    "\n",
    "filepath='lstm-epoch-30.hdf5'\n",
    "checkpoint = ModelCheckpoint(filepath, monitor='loss', verbose=1, save_best_only=True, mode='min')\n",
    "callbacks_list = [checkpoint]"
   ]
  },
  {
   "cell_type": "code",
   "execution_count": 36,
   "metadata": {},
   "outputs": [
    {
     "name": "stdout",
     "output_type": "stream",
     "text": [
      "Epoch 1/30\n",
      "241015/241015 [==============================] - 1206s 5ms/step - loss: 3.0158\n",
      "\n",
      "Epoch 00001: loss improved from inf to 3.01585, saving model to lstm-epoch-30.hdf5\n",
      "Epoch 2/30\n",
      "241015/241015 [==============================] - 1358s 6ms/step - loss: 2.8738\n",
      "\n",
      "Epoch 00002: loss improved from 3.01585 to 2.87381, saving model to lstm-epoch-30.hdf5\n",
      "Epoch 3/30\n",
      "241015/241015 [==============================] - 1304s 5ms/step - loss: 2.8245\n",
      "\n",
      "Epoch 00003: loss improved from 2.87381 to 2.82455, saving model to lstm-epoch-30.hdf5\n",
      "Epoch 4/30\n",
      "241015/241015 [==============================] - 1254s 5ms/step - loss: 2.7958\n",
      "\n",
      "Epoch 00004: loss improved from 2.82455 to 2.79579, saving model to lstm-epoch-30.hdf5\n",
      "Epoch 5/30\n",
      "241015/241015 [==============================] - 1205s 5ms/step - loss: 2.7673\n",
      "\n",
      "Epoch 00005: loss improved from 2.79579 to 2.76729, saving model to lstm-epoch-30.hdf5\n",
      "Epoch 6/30\n",
      "241015/241015 [==============================] - 1237s 5ms/step - loss: 2.7443\n",
      "\n",
      "Epoch 00006: loss improved from 2.76729 to 2.74426, saving model to lstm-epoch-30.hdf5\n",
      "Epoch 7/30\n",
      "241015/241015 [==============================] - 1211s 5ms/step - loss: 2.7251\n",
      "\n",
      "Epoch 00007: loss improved from 2.74426 to 2.72507, saving model to lstm-epoch-30.hdf5\n",
      "Epoch 8/30\n",
      "241015/241015 [==============================] - 1211s 5ms/step - loss: 2.7046\n",
      "\n",
      "Epoch 00008: loss improved from 2.72507 to 2.70464, saving model to lstm-epoch-30.hdf5\n",
      "Epoch 9/30\n",
      "241015/241015 [==============================] - 1263s 5ms/step - loss: 2.6854\n",
      "\n",
      "Epoch 00009: loss improved from 2.70464 to 2.68538, saving model to lstm-epoch-30.hdf5\n",
      "Epoch 10/30\n",
      "241015/241015 [==============================] - 1370s 6ms/step - loss: 2.6659\n",
      "\n",
      "Epoch 00010: loss improved from 2.68538 to 2.66591, saving model to lstm-epoch-30.hdf5\n",
      "Epoch 11/30\n",
      "241015/241015 [==============================] - 1375s 6ms/step - loss: 2.6459\n",
      "\n",
      "Epoch 00011: loss improved from 2.66591 to 2.64586, saving model to lstm-epoch-30.hdf5\n",
      "Epoch 12/30\n",
      "241015/241015 [==============================] - 1331s 6ms/step - loss: 2.6254\n",
      "\n",
      "Epoch 00012: loss improved from 2.64586 to 2.62536, saving model to lstm-epoch-30.hdf5\n",
      "Epoch 13/30\n",
      "241015/241015 [==============================] - 1325s 5ms/step - loss: 2.6056\n",
      "\n",
      "Epoch 00013: loss improved from 2.62536 to 2.60556, saving model to lstm-epoch-30.hdf5\n",
      "Epoch 14/30\n",
      "241015/241015 [==============================] - 1311s 5ms/step - loss: 2.5848\n",
      "\n",
      "Epoch 00014: loss improved from 2.60556 to 2.58479, saving model to lstm-epoch-30.hdf5\n",
      "Epoch 15/30\n",
      "241015/241015 [==============================] - 1294s 5ms/step - loss: 2.5656\n",
      "\n",
      "Epoch 00015: loss improved from 2.58479 to 2.56565, saving model to lstm-epoch-30.hdf5\n",
      "Epoch 16/30\n",
      "241015/241015 [==============================] - 1195s 5ms/step - loss: 2.5472\n",
      "\n",
      "Epoch 00016: loss improved from 2.56565 to 2.54724, saving model to lstm-epoch-30.hdf5\n",
      "Epoch 17/30\n",
      "241015/241015 [==============================] - 1182s 5ms/step - loss: 2.5275\n",
      "\n",
      "Epoch 00017: loss improved from 2.54724 to 2.52753, saving model to lstm-epoch-30.hdf5\n",
      "Epoch 18/30\n",
      "241015/241015 [==============================] - 1186s 5ms/step - loss: 2.5116\n",
      "\n",
      "Epoch 00018: loss improved from 2.52753 to 2.51157, saving model to lstm-epoch-30.hdf5\n",
      "Epoch 19/30\n",
      "241015/241015 [==============================] - 1187s 5ms/step - loss: 2.4960\n",
      "\n",
      "Epoch 00019: loss improved from 2.51157 to 2.49604, saving model to lstm-epoch-30.hdf5\n",
      "Epoch 20/30\n",
      "241015/241015 [==============================] - 1184s 5ms/step - loss: 2.4802\n",
      "\n",
      "Epoch 00020: loss improved from 2.49604 to 2.48021, saving model to lstm-epoch-30.hdf5\n",
      "Epoch 21/30\n",
      "241015/241015 [==============================] - 1191s 5ms/step - loss: 2.4660\n",
      "\n",
      "Epoch 00021: loss improved from 2.48021 to 2.46600, saving model to lstm-epoch-30.hdf5\n",
      "Epoch 22/30\n",
      "241015/241015 [==============================] - 1191s 5ms/step - loss: 2.4519\n",
      "\n",
      "Epoch 00022: loss improved from 2.46600 to 2.45192, saving model to lstm-epoch-30.hdf5\n",
      "Epoch 23/30\n",
      "241015/241015 [==============================] - 1189s 5ms/step - loss: 2.4388\n",
      "\n",
      "Epoch 00023: loss improved from 2.45192 to 2.43883, saving model to lstm-epoch-30.hdf5\n",
      "Epoch 24/30\n",
      "241015/241015 [==============================] - 1225s 5ms/step - loss: 2.4262\n",
      "\n",
      "Epoch 00024: loss improved from 2.43883 to 2.42616, saving model to lstm-epoch-30.hdf5\n",
      "Epoch 25/30\n",
      "241015/241015 [==============================] - 1279s 5ms/step - loss: 2.4136\n",
      "\n",
      "Epoch 00025: loss improved from 2.42616 to 2.41360, saving model to lstm-epoch-30.hdf5\n",
      "Epoch 26/30\n",
      "241015/241015 [==============================] - 1224s 5ms/step - loss: 2.4015\n",
      "\n",
      "Epoch 00026: loss improved from 2.41360 to 2.40153, saving model to lstm-epoch-30.hdf5\n",
      "Epoch 27/30\n",
      "241015/241015 [==============================] - 1139s 5ms/step - loss: 2.3897\n",
      "\n",
      "Epoch 00027: loss improved from 2.40153 to 2.38973, saving model to lstm-epoch-30.hdf5\n",
      "Epoch 28/30\n",
      "241015/241015 [==============================] - 1095s 5ms/step - loss: 2.3796\n",
      "\n",
      "Epoch 00028: loss improved from 2.38973 to 2.37958, saving model to lstm-epoch-30.hdf5\n",
      "Epoch 29/30\n",
      "241015/241015 [==============================] - 1237s 5ms/step - loss: 2.3685\n",
      "\n",
      "Epoch 00029: loss improved from 2.37958 to 2.36848, saving model to lstm-epoch-30.hdf5\n",
      "Epoch 30/30\n",
      "241015/241015 [==============================] - 1305s 5ms/step - loss: 2.3591\n",
      "\n",
      "Epoch 00030: loss improved from 2.36848 to 2.35906, saving model to lstm-epoch-30.hdf5\n"
     ]
    },
    {
     "data": {
      "text/plain": [
       "<tensorflow.python.keras.callbacks.History at 0x129221c50>"
      ]
     },
     "execution_count": 36,
     "metadata": {},
     "output_type": "execute_result"
    }
   ],
   "source": [
    "model.fit(train_x, one_hot_y, epochs=30, batch_size=128, callbacks=callbacks_list)"
   ]
  },
  {
   "cell_type": "code",
   "execution_count": 39,
   "metadata": {},
   "outputs": [
    {
     "name": "stdout",
     "output_type": "stream",
     "text": [
      "Epoch 1/5\n",
      "241015/241015 [==============================] - 1041s 4ms/step - loss: 2.3481\n",
      "\n",
      "Epoch 00001: loss improved from 2.35906 to 2.34809, saving model to lstm-epoch-30.hdf5\n",
      "Epoch 2/5\n",
      "241015/241015 [==============================] - 920s 4ms/step - loss: 2.3398\n",
      "\n",
      "Epoch 00002: loss improved from 2.34809 to 2.33983, saving model to lstm-epoch-30.hdf5\n",
      "Epoch 3/5\n",
      "241015/241015 [==============================] - 878s 4ms/step - loss: 2.3302\n",
      "\n",
      "Epoch 00003: loss improved from 2.33983 to 2.33016, saving model to lstm-epoch-30.hdf5\n",
      "Epoch 4/5\n",
      "241015/241015 [==============================] - 977s 4ms/step - loss: 2.3215\n",
      "\n",
      "Epoch 00004: loss improved from 2.33016 to 2.32145, saving model to lstm-epoch-30.hdf5\n",
      "Epoch 5/5\n",
      "241015/241015 [==============================] - 1079s 4ms/step - loss: 2.3127\n",
      "\n",
      "Epoch 00005: loss improved from 2.32145 to 2.31274, saving model to lstm-epoch-30.hdf5\n"
     ]
    },
    {
     "data": {
      "text/plain": [
       "<tensorflow.python.keras.callbacks.History at 0x10b71a6d8>"
      ]
     },
     "execution_count": 39,
     "metadata": {},
     "output_type": "execute_result"
    }
   ],
   "source": [
    "model.fit(train_x, one_hot_y, epochs=5, batch_size=128, callbacks=callbacks_list)"
   ]
  },
  {
   "cell_type": "code",
   "execution_count": 41,
   "metadata": {},
   "outputs": [
    {
     "name": "stdout",
     "output_type": "stream",
     "text": [
      "Epoch 1/5\n",
      "241015/241015 [==============================] - 1256s 5ms/step - loss: 2.3044\n",
      "\n",
      "Epoch 00001: loss improved from 2.31274 to 2.30439, saving model to lstm-epoch-30.hdf5\n",
      "Epoch 2/5\n",
      "241015/241015 [==============================] - 1108s 5ms/step - loss: 2.2956\n",
      "\n",
      "Epoch 00002: loss improved from 2.30439 to 2.29557, saving model to lstm-epoch-30.hdf5\n",
      "Epoch 3/5\n",
      "241015/241015 [==============================] - 1087s 5ms/step - loss: 2.2868\n",
      "\n",
      "Epoch 00003: loss improved from 2.29557 to 2.28679, saving model to lstm-epoch-30.hdf5\n",
      "Epoch 4/5\n",
      "241015/241015 [==============================] - 1120s 5ms/step - loss: 2.2795\n",
      "\n",
      "Epoch 00004: loss improved from 2.28679 to 2.27948, saving model to lstm-epoch-30.hdf5\n",
      "Epoch 5/5\n",
      "241015/241015 [==============================] - 1060s 4ms/step - loss: 2.2718\n",
      "\n",
      "Epoch 00005: loss improved from 2.27948 to 2.27184, saving model to lstm-epoch-30.hdf5\n"
     ]
    },
    {
     "data": {
      "text/plain": [
       "<tensorflow.python.keras.callbacks.History at 0x10b71a780>"
      ]
     },
     "execution_count": 41,
     "metadata": {},
     "output_type": "execute_result"
    }
   ],
   "source": [
    "model.fit(train_x, one_hot_y, epochs=5, batch_size=128, callbacks=callbacks_list)"
   ]
  },
  {
   "cell_type": "code",
   "execution_count": 43,
   "metadata": {
    "scrolled": true
   },
   "outputs": [
    {
     "name": "stdout",
     "output_type": "stream",
     "text": [
      "Epoch 1/10\n",
      "241015/241015 [==============================] - 908s 4ms/step - loss: 2.2654\n",
      "\n",
      "Epoch 00001: loss improved from 2.27184 to 2.26540, saving model to lstm-epoch-30.hdf5\n",
      "Epoch 2/10\n",
      "241015/241015 [==============================] - 947s 4ms/step - loss: 2.2574\n",
      "\n",
      "Epoch 00002: loss improved from 2.26540 to 2.25738, saving model to lstm-epoch-30.hdf5\n",
      "Epoch 3/10\n",
      "241015/241015 [==============================] - 1138s 5ms/step - loss: 2.2510\n",
      "\n",
      "Epoch 00003: loss improved from 2.25738 to 2.25095, saving model to lstm-epoch-30.hdf5\n",
      "Epoch 4/10\n",
      "241015/241015 [==============================] - 1136s 5ms/step - loss: 2.2426\n",
      "\n",
      "Epoch 00004: loss improved from 2.25095 to 2.24260, saving model to lstm-epoch-30.hdf5\n",
      "Epoch 5/10\n",
      "241015/241015 [==============================] - 1268s 5ms/step - loss: 2.2359\n",
      "\n",
      "Epoch 00005: loss improved from 2.24260 to 2.23591, saving model to lstm-epoch-30.hdf5\n",
      "Epoch 6/10\n",
      "241015/241015 [==============================] - 1249s 5ms/step - loss: 2.2308\n",
      "\n",
      "Epoch 00006: loss improved from 2.23591 to 2.23076, saving model to lstm-epoch-30.hdf5\n",
      "Epoch 7/10\n",
      "241015/241015 [==============================] - 1315s 5ms/step - loss: 2.2238\n",
      "\n",
      "Epoch 00007: loss improved from 2.23076 to 2.22377, saving model to lstm-epoch-30.hdf5\n",
      "Epoch 8/10\n",
      "241015/241015 [==============================] - 1180s 5ms/step - loss: 2.2166\n",
      "\n",
      "Epoch 00008: loss improved from 2.22377 to 2.21658, saving model to lstm-epoch-30.hdf5\n",
      "Epoch 9/10\n",
      "241015/241015 [==============================] - 1149s 5ms/step - loss: 2.2126\n",
      "\n",
      "Epoch 00009: loss improved from 2.21658 to 2.21262, saving model to lstm-epoch-30.hdf5\n",
      "Epoch 10/10\n",
      "241015/241015 [==============================] - 1155s 5ms/step - loss: 2.2056\n",
      "\n",
      "Epoch 00010: loss improved from 2.21262 to 2.20562, saving model to lstm-epoch-30.hdf5\n"
     ]
    },
    {
     "data": {
      "text/plain": [
       "<tensorflow.python.keras.callbacks.History at 0x11a2026a0>"
      ]
     },
     "execution_count": 43,
     "metadata": {},
     "output_type": "execute_result"
    }
   ],
   "source": [
    "model.fit(train_x, one_hot_y, epochs=10, batch_size=128, callbacks=callbacks_list)"
   ]
  },
  {
   "cell_type": "code",
   "execution_count": 78,
   "metadata": {},
   "outputs": [],
   "source": [
    "from keras.models import load_model\n",
    "## total 50 epoches\n",
    "loaded_model = load_model(filepath)\n",
    "new_checkpoint = ModelCheckpoint(filepath, monitor='loss', verbose=1, save_best_only=True, mode='min')\n",
    "callbacks_list = [checkpoint]"
   ]
  },
  {
   "cell_type": "markdown",
   "metadata": {},
   "source": [
    "#### xi."
   ]
  },
  {
   "cell_type": "code",
   "execution_count": 80,
   "metadata": {},
   "outputs": [
    {
     "data": {
      "text/plain": [
       "'There are those who take mental phenomena naively, just as they would physical phenomena. This school of psychologists tends not to emphasize the object. and the penson oe the serse df a fene of the serse dn a penseni of she pense-data and she serse-data an anluer oo aelnefs and the sense-data and she penset are soeee and she serse-data an anpuei tores of she sersent of the serse-data an anluer oo a celtein aroseestsnis of the serse df a penseni oo the serse danat an anpuei tores. Tne fane th thall teese is a sers of the frsere to be ir toee as ane foor the sane oo ae irrel to be iroen te shelld the pane ofnessons of the serse dn a penseni of she pense-data and she serse-data an anluer oo aelnefs and the sense-data and she penset are soeee and she serse-data an anpuei tores of she sersent of the serse-data an anluer oo a celtein aroseestsnis of the serse df a penseni oo the serse danat an anpuei tores. Tne fane th thall teese is a sers of the frsere to be ir toee as ane foor the sane oo ae irrel to be iroen te shelld the pane ofnessons of the serse dn a penseni of she pense-data and she serse-data an anluer oo aelnefs and the sense-dat'"
      ]
     },
     "execution_count": 80,
     "metadata": {},
     "output_type": "execute_result"
    }
   ],
   "source": [
    "def generate_text(init_text, model, length):\n",
    "    text_asc_array = [ord(c) for c in init_text if ord(c) < 256]\n",
    "    text_asc_array = np.array(text_asc_array)\n",
    "    text_asc_array = text_asc_array/float(256)\n",
    "    input_x = text_asc_array[-99:]\n",
    "    input_x = input_x.tolist()\n",
    "    output_text = init_text\n",
    "    for i in range(length):\n",
    "        pred_x = np.reshape(input_x, (1, len(train_x[0]), 1))\n",
    "        prediction = model.predict(pred_x, verbose=0)\n",
    "        index = np.argmax(prediction)\n",
    "        new_char = chr(index)\n",
    "        new_x = ord(new_char)/float(256)\n",
    "        input_x.append(new_x)\n",
    "        input_x = input_x[1:]\n",
    "        output_text += new_char\n",
    "    return output_text\n",
    "initial_text = 'There are those who take mental phenomena naively, just as they would physical phenomena. This school of psychologists tends not to emphasize the object.'\n",
    "generate_text(initial_text, model, 1000)"
   ]
  },
  {
   "cell_type": "markdown",
   "metadata": {},
   "source": [
    "## Question 2 - CNNs for Image Colorization"
   ]
  },
  {
   "cell_type": "markdown",
   "metadata": {},
   "source": [
    "### (a)"
   ]
  },
  {
   "cell_type": "code",
   "execution_count": 1,
   "metadata": {},
   "outputs": [
    {
     "name": "stderr",
     "output_type": "stream",
     "text": [
      "Using TensorFlow backend.\n"
     ]
    }
   ],
   "source": [
    "import numpy as np\n",
    "import pandas as pd\n",
    "import os\n",
    "os.environ[\"THEANO_FLAGS\"] = \"mode=FAST_RUN,device=gpu,floatX=float32\"\n",
    "from keras import backend as K\n",
    "if K.backend()=='tensorflow':\n",
    "    K.set_image_dim_ordering(\"th\")"
   ]
  },
  {
   "cell_type": "code",
   "execution_count": 3,
   "metadata": {},
   "outputs": [],
   "source": [
    "from keras.models import Sequential\n",
    "from keras.layers.convolutional import Convolution2D, MaxPooling2D\n",
    "from keras.layers import Activation, Flatten, Dense, Dropout\n",
    "from keras.layers.normalization import BatchNormalization\n",
    "from keras.utils import np_utils"
   ]
  },
  {
   "cell_type": "code",
   "execution_count": 4,
   "metadata": {},
   "outputs": [],
   "source": [
    "def unpickle(file):\n",
    "    import pickle\n",
    "    with open(file, 'rb') as fo:\n",
    "        dict = pickle.load(fo, encoding='bytes')\n",
    "    return dict"
   ]
  },
  {
   "cell_type": "code",
   "execution_count": 5,
   "metadata": {},
   "outputs": [
    {
     "data": {
      "text/plain": [
       "{b'num_cases_per_batch': 10000,\n",
       " b'label_names': [b'airplane',\n",
       "  b'automobile',\n",
       "  b'bird',\n",
       "  b'cat',\n",
       "  b'deer',\n",
       "  b'dog',\n",
       "  b'frog',\n",
       "  b'horse',\n",
       "  b'ship',\n",
       "  b'truck'],\n",
       " b'num_vis': 3072}"
      ]
     },
     "execution_count": 5,
     "metadata": {},
     "output_type": "execute_result"
    }
   ],
   "source": [
    "batches_dict = unpickle('pictures/batches.meta')\n",
    "batches_dict"
   ]
  },
  {
   "cell_type": "code",
   "execution_count": 6,
   "metadata": {},
   "outputs": [
    {
     "data": {
      "text/plain": [
       "b'bird'"
      ]
     },
     "execution_count": 6,
     "metadata": {},
     "output_type": "execute_result"
    }
   ],
   "source": [
    "batches_dict[b'label_names'][2]"
   ]
  },
  {
   "cell_type": "code",
   "execution_count": 7,
   "metadata": {},
   "outputs": [],
   "source": [
    "test_dict = unpickle('pictures/test_batch')"
   ]
  },
  {
   "cell_type": "code",
   "execution_count": 8,
   "metadata": {},
   "outputs": [],
   "source": [
    "train_batch_files = ['pictures/data_batch_1','pictures/data_batch_2','pictures/data_batch_3','pictures/data_batch_4','pictures/data_batch_5']\n",
    "train_batch_dict_list = []\n",
    "for file_name in train_batch_files:\n",
    "    train_batch_dict_list.append(unpickle(file_name))"
   ]
  },
  {
   "cell_type": "markdown",
   "metadata": {},
   "source": [
    "### (b)"
   ]
  },
  {
   "cell_type": "code",
   "execution_count": 9,
   "metadata": {},
   "outputs": [],
   "source": [
    "def extract_bird_class(all_dict):\n",
    "    labels = all_dict[b'labels']\n",
    "    bird_class_indices = [index for index in range(len(labels)) if labels[index] == 2]\n",
    "    all_data = all_dict[b'data']\n",
    "    all_filenames = all_dict[b'filenames']\n",
    "    bird_data = [all_data[i] for i in bird_class_indices]\n",
    "    bird_files = [all_filenames[i] for i in bird_class_indices]\n",
    "    return bird_data, bird_files"
   ]
  },
  {
   "cell_type": "code",
   "execution_count": 10,
   "metadata": {},
   "outputs": [],
   "source": [
    "bird_train_data = []\n",
    "bird_test_data = []\n",
    "bird_train_files = []\n",
    "bird_test_files = []\n",
    "data, files = extract_bird_class(test_dict)\n",
    "bird_test_data = data\n",
    "bird_test_files = files\n",
    "for train_dict in train_batch_dict_list:\n",
    "    data, files = extract_bird_class(train_dict)\n",
    "    bird_train_data += data\n",
    "    bird_train_files += files"
   ]
  },
  {
   "cell_type": "code",
   "execution_count": 11,
   "metadata": {},
   "outputs": [
    {
     "data": {
      "text/plain": [
       "[b'cassowary_s_001300.png',\n",
       " b'passerine_s_000343.png',\n",
       " b'accentor_s_000677.png',\n",
       " b'cassowary_s_001246.png',\n",
       " b'ostrich_s_001368.png',\n",
       " b'ostrich_s_001150.png',\n",
       " b'accentor_s_000759.png',\n",
       " b'emu_novaehollandiae_s_000795.png',\n",
       " b'songbird_s_001052.png',\n",
       " b'emu_s_000692.png']"
      ]
     },
     "execution_count": 11,
     "metadata": {},
     "output_type": "execute_result"
    }
   ],
   "source": [
    "bird_train_files[:10]"
   ]
  },
  {
   "cell_type": "code",
   "execution_count": 12,
   "metadata": {},
   "outputs": [
    {
     "data": {
      "text/plain": [
       "[array([164, 105, 118, ...,  29,  26,  44], dtype=uint8),\n",
       " array([17, 17, 17, ..., 20, 18, 16], dtype=uint8),\n",
       " array([197, 198, 201, ...,  61,  63,  57], dtype=uint8),\n",
       " array([73, 71, 77, ..., 55, 38, 29], dtype=uint8),\n",
       " array([145, 145, 148, ..., 160, 150, 167], dtype=uint8),\n",
       " array([127, 148, 192, ..., 103, 107, 117], dtype=uint8),\n",
       " array([ 77,  76,  78, ..., 127, 134, 135], dtype=uint8),\n",
       " array([191, 190, 190, ..., 197, 196, 195], dtype=uint8),\n",
       " array([ 45,  47,  48, ..., 100, 106,  80], dtype=uint8),\n",
       " array([156, 167, 169, ..., 106, 117, 118], dtype=uint8)]"
      ]
     },
     "execution_count": 12,
     "metadata": {},
     "output_type": "execute_result"
    }
   ],
   "source": [
    "bird_train_data[:10]"
   ]
  },
  {
   "cell_type": "code",
   "execution_count": 13,
   "metadata": {},
   "outputs": [],
   "source": [
    "def original_data_to_img(row):\n",
    "    a = []\n",
    "    pixel_num = len(row)//3\n",
    "    for i in range(pixel_num):\n",
    "        red = row[i]\n",
    "        green = row[i+pixel_num]\n",
    "        blue = row[i+2*pixel_num]\n",
    "        a.append(red)\n",
    "        a.append(green)\n",
    "        a.append(blue)\n",
    "    pixels = np.reshape(a, (pixel_num, 3))\n",
    "    pixels = np.reshape(pixels, (32,32,3))\n",
    "    return pixels"
   ]
  },
  {
   "cell_type": "code",
   "execution_count": 14,
   "metadata": {},
   "outputs": [],
   "source": [
    "train_images = []\n",
    "test_images = []\n",
    "for i in range(len(bird_train_data)):\n",
    "    train_images.append(original_data_to_img(bird_train_data[i]))\n",
    "for i in range(len(bird_test_data)):\n",
    "    test_images.append(original_data_to_img(bird_test_data[i]))"
   ]
  },
  {
   "cell_type": "code",
   "execution_count": 15,
   "metadata": {},
   "outputs": [],
   "source": [
    "import time\n",
    "import matplotlib.pyplot as plt\n",
    "import numpy as np\n",
    "% matplotlib inline"
   ]
  },
  {
   "cell_type": "code",
   "execution_count": 16,
   "metadata": {},
   "outputs": [
    {
     "data": {
      "image/png": "[encoded data removed]",
      "text/plain": [
       "<Figure size 1152x576 with 12 Axes>"
      ]
     },
     "metadata": {},
     "output_type": "display_data"
    }
   ],
   "source": [
    "fig = plt.figure(figsize=(16, 8))\n",
    "for i in range(12):\n",
    "    ax = fig.add_subplot(3, 4, 1+i, xticks=[], yticks=[])\n",
    "    ax.set_title(bird_train_files[i])\n",
    "    plt.imshow(train_images[i])\n",
    "plt.show()"
   ]
  },
  {
   "cell_type": "markdown",
   "metadata": {},
   "source": [
    "### (c)"
   ]
  },
  {
   "cell_type": "code",
   "execution_count": 17,
   "metadata": {},
   "outputs": [
    {
     "data": {
      "text/plain": [
       "array([[164, 206,  84],\n",
       "       [105, 140,  61],\n",
       "       [118, 148, 101],\n",
       "       [129, 158, 115],\n",
       "       [134, 159, 119],\n",
       "       [146, 170, 124],\n",
       "       [166, 185, 150],\n",
       "       [183, 195, 178],\n",
       "       [199, 210, 193],\n",
       "       [174, 190, 163]], dtype=uint8)"
      ]
     },
     "execution_count": 17,
     "metadata": {},
     "output_type": "execute_result"
    }
   ],
   "source": [
    "all_train_pixels = []\n",
    "for i in range(len(train_images)):\n",
    "    for j in range(len(train_images[i])):\n",
    "        for k in range(len(train_images[i][j])):\n",
    "            all_train_pixels.append(train_images[i][j][k])\n",
    "all_train_pixels = np.array(all_train_pixels)\n",
    "all_train_pixels[:10]"
   ]
  },
  {
   "cell_type": "code",
   "execution_count": 18,
   "metadata": {},
   "outputs": [
    {
     "data": {
      "text/plain": [
       "array([[100, 103,  74],\n",
       "       [ 68,  91,  65],\n",
       "       [116, 162, 109],\n",
       "       [132, 181, 125],\n",
       "       [131, 175, 127],\n",
       "       [135, 176, 134],\n",
       "       [130, 181, 123],\n",
       "       [131, 190, 121],\n",
       "       [128, 190, 120],\n",
       "       [133, 194, 127]], dtype=uint8)"
      ]
     },
     "execution_count": 18,
     "metadata": {},
     "output_type": "execute_result"
    }
   ],
   "source": [
    "all_test_pixels = []\n",
    "for i in range(len(test_images)):\n",
    "    for j in range(len(test_images[i])):\n",
    "        for k in range(len(test_images[i][j])):\n",
    "            all_test_pixels.append(test_images[i][j][k])\n",
    "all_test_pixels = np.array(all_test_pixels)\n",
    "all_test_pixels[:10]"
   ]
  },
  {
   "cell_type": "code",
   "execution_count": 19,
   "metadata": {},
   "outputs": [],
   "source": [
    "all_pixels = np.concatenate((all_train_pixels, all_test_pixels), axis=0)"
   ]
  },
  {
   "cell_type": "markdown",
   "metadata": {},
   "source": [
    "### (d)"
   ]
  },
  {
   "cell_type": "code",
   "execution_count": 20,
   "metadata": {},
   "outputs": [],
   "source": [
    "from sklearn.cluster import KMeans"
   ]
  },
  {
   "cell_type": "code",
   "execution_count": 21,
   "metadata": {},
   "outputs": [],
   "source": [
    "kmeans = KMeans(n_clusters=4, random_state=0).fit(all_pixels)"
   ]
  },
  {
   "cell_type": "code",
   "execution_count": 22,
   "metadata": {},
   "outputs": [
    {
     "name": "stdout",
     "output_type": "stream",
     "text": [
      "[2 0 0 2 2 2 2 1 1 2 2 2 2 2 2 2 2 2 2 2 2 2 2 2 2 2 2 2 0 0 0 0 2 0 0 0 0\n",
      " 2 2 2 1 1 2 2 2 2 2 2 2 2 2 2 2 2 2 2 2 2 0 2 0 0 0 0 2 2 0 2 2 0 0 2 2 2\n",
      " 2 2 2 2 2 2 2 1 2 2 2 2 2 0 0 2 2 0 0 0 0 0 0 2 2 0]\n",
      "Four main colors:  [[109, 109, 83], [207, 212, 211], [156, 156, 136], [49, 50, 39]]\n"
     ]
    }
   ],
   "source": [
    "print(kmeans.labels_[:100])\n",
    "main_colors = []\n",
    "for i in range(len(kmeans.cluster_centers_)):\n",
    "    main_color_p = [int(round(rgb)) for rgb in kmeans.cluster_centers_[i]]\n",
    "    main_colors.append(main_color_p)\n",
    "print(\"Four main colors: \",main_colors)"
   ]
  },
  {
   "cell_type": "code",
   "execution_count": 190,
   "metadata": {},
   "outputs": [],
   "source": [
    "main_color_train_images = []\n",
    "main_color_train_categories = []\n",
    "for i in range(len(train_images)):\n",
    "    main_color_train_image = []\n",
    "    main_color_train_category = []\n",
    "    for j in range(len(train_images[i])):\n",
    "        main_color_train_image_row = []\n",
    "        main_color_train_category_row = []\n",
    "        categories = kmeans.predict(train_images[i][j])\n",
    "        for k in range(len(train_images[i][j])):\n",
    "            category = categories[k]\n",
    "            main_color_train_category_row.append(category)\n",
    "            pixel = main_colors[category]\n",
    "            main_color_train_image_row.append(pixel)\n",
    "        main_color_train_image.append(main_color_train_image_row)\n",
    "        main_color_train_category.append(main_color_train_category_row)\n",
    "    main_color_train_images.append(main_color_train_image)\n",
    "    main_color_train_categories.append(main_color_train_category)"
   ]
  },
  {
   "cell_type": "code",
   "execution_count": 309,
   "metadata": {},
   "outputs": [
    {
     "data": {
      "text/plain": [
       "(5000, 1, 32, 32)"
      ]
     },
     "execution_count": 309,
     "metadata": {},
     "output_type": "execute_result"
    }
   ],
   "source": [
    "main_color_train_categories = np.array(main_color_train_categories)\n",
    "# main_color_train_categories = main_color_train_categories.reshape(5000,1,32,32)\n",
    "main_color_train_categories.shape"
   ]
  },
  {
   "cell_type": "code",
   "execution_count": 24,
   "metadata": {},
   "outputs": [
    {
     "data": {
      "text/plain": [
       "(5000, 32, 32, 3)"
      ]
     },
     "execution_count": 24,
     "metadata": {},
     "output_type": "execute_result"
    }
   ],
   "source": [
    "main_color_train_images = np.array(main_color_train_images)\n",
    "main_color_train_images.shape"
   ]
  },
  {
   "cell_type": "code",
   "execution_count": 186,
   "metadata": {},
   "outputs": [],
   "source": [
    "main_color_test_images = []\n",
    "main_color_test_categories = []\n",
    "for i in range(len(test_images)):\n",
    "    main_color_test_image = []\n",
    "    main_color_test_category = []\n",
    "    for j in range(len(test_images[i])):\n",
    "        main_color_test_image_row = []\n",
    "        main_color_test_category_row = []\n",
    "        categories = kmeans.predict(test_images[i][j])\n",
    "        for k in range(len(test_images[i][j])):\n",
    "            category = categories[k]\n",
    "            main_color_test_category_row.append(category)\n",
    "            pixel = main_colors[category]\n",
    "            main_color_test_image_row.append(pixel)\n",
    "        main_color_test_image.append(main_color_test_image_row)\n",
    "        main_color_test_category.append(main_color_test_category_row)\n",
    "    main_color_test_images.append(main_color_test_image)\n",
    "    main_color_test_categories.append(main_color_test_category)"
   ]
  },
  {
   "cell_type": "code",
   "execution_count": 310,
   "metadata": {},
   "outputs": [],
   "source": [
    "main_color_test_categories = np.array(main_color_test_categories)\n",
    "# main_color_test_categories = main_color_test_categories.reshape(1000,1,32,32)"
   ]
  },
  {
   "cell_type": "code",
   "execution_count": 26,
   "metadata": {},
   "outputs": [
    {
     "data": {
      "text/plain": [
       "(1000, 32, 32, 3)"
      ]
     },
     "execution_count": 26,
     "metadata": {},
     "output_type": "execute_result"
    }
   ],
   "source": [
    "main_color_test_images = np.array(main_color_test_images)\n",
    "main_color_test_images.shape"
   ]
  },
  {
   "cell_type": "code",
   "execution_count": 27,
   "metadata": {},
   "outputs": [
    {
     "data": {
      "image/png": "[encoded data removed]",
      "text/plain": [
       "<Figure size 1152x576 with 12 Axes>"
      ]
     },
     "metadata": {},
     "output_type": "display_data"
    }
   ],
   "source": [
    "fig = plt.figure(figsize=(16, 8))\n",
    "for i in range(12):\n",
    "    ax = fig.add_subplot(3, 4, 1+i, xticks=[], yticks=[])\n",
    "    ax.set_title(bird_train_files[i])\n",
    "    plt.imshow(main_color_train_images[i])\n",
    "plt.show()"
   ]
  },
  {
   "cell_type": "markdown",
   "metadata": {},
   "source": [
    "### (e)"
   ]
  },
  {
   "cell_type": "code",
   "execution_count": 28,
   "metadata": {},
   "outputs": [],
   "source": [
    "from skimage.color import rgb2gray"
   ]
  },
  {
   "cell_type": "code",
   "execution_count": 29,
   "metadata": {},
   "outputs": [],
   "source": [
    "grayscale_test = []\n",
    "for i in range(len(test_images)):\n",
    "    grayscale_test.append(rgb2gray(test_images[i]))\n",
    "grayscale_train = []\n",
    "for i in range(len(train_images)):\n",
    "    grayscale_train.append(rgb2gray(train_images[i]))"
   ]
  },
  {
   "cell_type": "code",
   "execution_count": 30,
   "metadata": {},
   "outputs": [
    {
     "data": {
      "image/png": "[encoded data removed]",
      "text/plain": [
       "<Figure size 1152x576 with 12 Axes>"
      ]
     },
     "metadata": {},
     "output_type": "display_data"
    }
   ],
   "source": [
    "fig = plt.figure(figsize=(16, 8))\n",
    "for i in range(12):\n",
    "    ax = fig.add_subplot(3, 4, 1+i, xticks=[], yticks=[])\n",
    "    ax.set_title(bird_train_files[i])\n",
    "    plt.imshow(grayscale_train[i])\n",
    "plt.show()"
   ]
  },
  {
   "cell_type": "markdown",
   "metadata": {},
   "source": [
    "### (f)"
   ]
  },
  {
   "cell_type": "code",
   "execution_count": 127,
   "metadata": {},
   "outputs": [],
   "source": [
    "from keras.models import Sequential\n",
    "from keras.layers.convolutional import Convolution2D, Conv2D, MaxPooling2D\n",
    "from keras.layers import Activation, Flatten, Dense, Dropout"
   ]
  },
  {
   "cell_type": "code",
   "execution_count": 128,
   "metadata": {},
   "outputs": [],
   "source": [
    "grayscale_train = np.array(grayscale_train)\n",
    "grayscale_test = np.array(grayscale_test)"
   ]
  },
  {
   "cell_type": "code",
   "execution_count": 129,
   "metadata": {},
   "outputs": [
    {
     "data": {
      "text/plain": [
       "(32, 32, 3)"
      ]
     },
     "execution_count": 129,
     "metadata": {},
     "output_type": "execute_result"
    }
   ],
   "source": [
    "main_color_test_images.shape[1:]"
   ]
  },
  {
   "cell_type": "code",
   "execution_count": 331,
   "metadata": {},
   "outputs": [],
   "source": [
    "cnn_model = Sequential()\n",
    "cnn_model.add(Conv2D(32, (5, 5), strides=2, padding='same', input_shape=(1,32,32)))\n",
    "cnn_model.add(Activation('relu'))\n",
    "cnn_model.add(Dropout(0.5))\n",
    "cnn_model.add(MaxPooling2D(pool_size=(2, 2)))\n",
    "cnn_model.add(Dropout(0.25))\n",
    "cnn_model.add(Conv2D(32, (5, 5), strides=2, padding='same'))\n",
    "cnn_model.add(Activation('relu'))\n",
    "cnn_model.add(Dropout(0.5))\n",
    "cnn_model.add(MaxPooling2D(pool_size=(2, 2)))\n",
    "cnn_model.add(Dropout(0.25))\n",
    "cnn_model.add(Flatten())\n",
    "cnn_model.add(Dense(32))\n",
    "cnn_model.add(Activation('relu'))\n",
    "cnn_model.add(Dropout(0.5))\n",
    "cnn_model.add(Dense(32))\n",
    "cnn_model.add(Activation('relu'))\n",
    "cnn_model.add(Dropout(0.5))\n",
    "cnn_model.add(Dense(4, activation='softmax'))\n",
    "cnn_model.compile(optimizer='adam', loss='categorical_crossentropy', metrics=['accuracy'])"
   ]
  },
  {
   "cell_type": "code",
   "execution_count": 332,
   "metadata": {},
   "outputs": [],
   "source": [
    "from keras.callbacks import ModelCheckpoint\n",
    "\n",
    "filepath='cnn-epoch-5.hdf5'\n",
    "checkpoint = ModelCheckpoint(filepath, monitor='loss', verbose=1, save_best_only=True, mode='min')\n",
    "callbacks_list = [checkpoint]"
   ]
  },
  {
   "cell_type": "code",
   "execution_count": 333,
   "metadata": {},
   "outputs": [
    {
     "data": {
      "text/plain": [
       "array([[[0.02314863, 0.02314863, 0.02006039, ..., 0.05874824,\n",
       "         0.05482667, 0.04306196],\n",
       "        [0.0270702 , 0.0270702 , 0.0270702 , ..., 0.0626698 ,\n",
       "         0.05874824, 0.05482667],\n",
       "        [0.0270702 , 0.0270702 , 0.03099176, ..., 0.0626698 ,\n",
       "         0.05874824, 0.05874824],\n",
       "        ...,\n",
       "        [0.84426039, 0.86691882, 0.79912824, ..., 0.09963843,\n",
       "         0.09571686, 0.09963843],\n",
       "        [0.85071176, 0.85292902, 0.82549294, ..., 0.10748157,\n",
       "         0.10356   , 0.09963843],\n",
       "        [0.82159412, 0.85490118, 0.83811373, ..., 0.11140314,\n",
       "         0.10356   , 0.09571686]]])"
      ]
     },
     "execution_count": 333,
     "metadata": {},
     "output_type": "execute_result"
    }
   ],
   "source": [
    "grayscale_train_1 = grayscale_train.reshape(5000, 1, 32, 32)\n",
    "grayscale_test_1 = grayscale_test.reshape(1000, 1, 32, 32)\n",
    "grayscale_train_1[1]"
   ]
  },
  {
   "cell_type": "code",
   "execution_count": 336,
   "metadata": {},
   "outputs": [
    {
     "data": {
      "text/plain": [
       "array([[[0., 0., 1., 0.],\n",
       "        [1., 0., 0., 0.],\n",
       "        [1., 0., 0., 0.],\n",
       "        ...,\n",
       "        [1., 0., 0., 0.],\n",
       "        [1., 0., 0., 0.],\n",
       "        [1., 0., 0., 0.]],\n",
       "\n",
       "       [[0., 0., 1., 0.],\n",
       "        [1., 0., 0., 0.],\n",
       "        [1., 0., 0., 0.],\n",
       "        ...,\n",
       "        [1., 0., 0., 0.],\n",
       "        [1., 0., 0., 0.],\n",
       "        [1., 0., 0., 0.]],\n",
       "\n",
       "       [[0., 0., 1., 0.],\n",
       "        [0., 0., 1., 0.],\n",
       "        [1., 0., 0., 0.],\n",
       "        ...,\n",
       "        [1., 0., 0., 0.],\n",
       "        [1., 0., 0., 0.],\n",
       "        [1., 0., 0., 0.]],\n",
       "\n",
       "       ...,\n",
       "\n",
       "       [[1., 0., 0., 0.],\n",
       "        [1., 0., 0., 0.],\n",
       "        [1., 0., 0., 0.],\n",
       "        ...,\n",
       "        [1., 0., 0., 0.],\n",
       "        [1., 0., 0., 0.],\n",
       "        [1., 0., 0., 0.]],\n",
       "\n",
       "       [[0., 0., 1., 0.],\n",
       "        [0., 0., 1., 0.],\n",
       "        [0., 0., 1., 0.],\n",
       "        ...,\n",
       "        [1., 0., 0., 0.],\n",
       "        [1., 0., 0., 0.],\n",
       "        [1., 0., 0., 0.]],\n",
       "\n",
       "       [[0., 0., 1., 0.],\n",
       "        [0., 0., 1., 0.],\n",
       "        [0., 0., 1., 0.],\n",
       "        ...,\n",
       "        [1., 0., 0., 0.],\n",
       "        [1., 0., 0., 0.],\n",
       "        [1., 0., 0., 0.]]], dtype=float32)"
      ]
     },
     "execution_count": 336,
     "metadata": {},
     "output_type": "execute_result"
    }
   ],
   "source": [
    "from keras.utils import to_categorical\n",
    "train_class_scheme = to_categorical(main_color_train_categories)\n",
    "test_class_scheme = to_categorical(main_color_test_categories)\n",
    "train_class_scheme_1 = train_class_scheme.reshape(5000,32,32,4)\n",
    "test_class_scheme_1 = test_class_scheme.reshape(1000,32,32,4)\n",
    "train_class_scheme_1[0]"
   ]
  },
  {
   "cell_type": "code",
   "execution_count": 335,
   "metadata": {},
   "outputs": [
    {
     "name": "stderr",
     "output_type": "stream",
     "text": [
      "/Users/chaochen/anaconda3/lib/python3.6/site-packages/ipykernel_launcher.py:1: UserWarning: The `nb_epoch` argument in `fit` has been renamed `epochs`.\n",
      "  \"\"\"Entry point for launching an IPython kernel.\n"
     ]
    },
    {
     "ename": "ValueError",
     "evalue": "Error when checking target: expected dense_157 to have 2 dimensions, but got array with shape (5000, 32, 32, 4)",
     "output_type": "error",
     "traceback": [
      "\u001b[0;31m---------------------------------------------------------------------------\u001b[0m",
      "\u001b[0;31mValueError\u001b[0m                                Traceback (most recent call last)",
      "\u001b[0;32m<ipython-input-335-61d147d6084e>\u001b[0m in \u001b[0;36m<module>\u001b[0;34m()\u001b[0m\n\u001b[0;32m----> 1\u001b[0;31m \u001b[0mcnn_model_info\u001b[0m \u001b[0;34m=\u001b[0m \u001b[0mcnn_model\u001b[0m\u001b[0;34m.\u001b[0m\u001b[0mfit\u001b[0m\u001b[0;34m(\u001b[0m\u001b[0mgrayscale_train_1\u001b[0m\u001b[0;34m,\u001b[0m \u001b[0mtrain_class_scheme_1\u001b[0m\u001b[0;34m,\u001b[0m \u001b[0mbatch_size\u001b[0m\u001b[0;34m=\u001b[0m\u001b[0;36m128\u001b[0m\u001b[0;34m,\u001b[0m \u001b[0mnb_epoch\u001b[0m\u001b[0;34m=\u001b[0m\u001b[0;36m5\u001b[0m\u001b[0;34m,\u001b[0m \u001b[0mvalidation_data\u001b[0m\u001b[0;34m=\u001b[0m\u001b[0;34m(\u001b[0m\u001b[0mgrayscale_test_1\u001b[0m\u001b[0;34m,\u001b[0m \u001b[0mtest_class_scheme_1\u001b[0m\u001b[0;34m)\u001b[0m\u001b[0;34m,\u001b[0m \u001b[0mcallbacks\u001b[0m\u001b[0;34m=\u001b[0m\u001b[0mcallbacks_list\u001b[0m\u001b[0;34m)\u001b[0m\u001b[0;34m\u001b[0m\u001b[0m\n\u001b[0m",
      "\u001b[0;32m~/anaconda3/lib/python3.6/site-packages/keras/engine/training.py\u001b[0m in \u001b[0;36mfit\u001b[0;34m(self, x, y, batch_size, epochs, verbose, callbacks, validation_split, validation_data, shuffle, class_weight, sample_weight, initial_epoch, steps_per_epoch, validation_steps, **kwargs)\u001b[0m\n\u001b[1;32m    953\u001b[0m             \u001b[0msample_weight\u001b[0m\u001b[0;34m=\u001b[0m\u001b[0msample_weight\u001b[0m\u001b[0;34m,\u001b[0m\u001b[0;34m\u001b[0m\u001b[0m\n\u001b[1;32m    954\u001b[0m             \u001b[0mclass_weight\u001b[0m\u001b[0;34m=\u001b[0m\u001b[0mclass_weight\u001b[0m\u001b[0;34m,\u001b[0m\u001b[0;34m\u001b[0m\u001b[0m\n\u001b[0;32m--> 955\u001b[0;31m             batch_size=batch_size)\n\u001b[0m\u001b[1;32m    956\u001b[0m         \u001b[0;31m# Prepare validation data.\u001b[0m\u001b[0;34m\u001b[0m\u001b[0;34m\u001b[0m\u001b[0m\n\u001b[1;32m    957\u001b[0m         \u001b[0mdo_validation\u001b[0m \u001b[0;34m=\u001b[0m \u001b[0;32mFalse\u001b[0m\u001b[0;34m\u001b[0m\u001b[0m\n",
      "\u001b[0;32m~/anaconda3/lib/python3.6/site-packages/keras/engine/training.py\u001b[0m in \u001b[0;36m_standardize_user_data\u001b[0;34m(self, x, y, sample_weight, class_weight, check_array_lengths, batch_size)\u001b[0m\n\u001b[1;32m    790\u001b[0m                 \u001b[0mfeed_output_shapes\u001b[0m\u001b[0;34m,\u001b[0m\u001b[0;34m\u001b[0m\u001b[0m\n\u001b[1;32m    791\u001b[0m                 \u001b[0mcheck_batch_axis\u001b[0m\u001b[0;34m=\u001b[0m\u001b[0;32mFalse\u001b[0m\u001b[0;34m,\u001b[0m  \u001b[0;31m# Don't enforce the batch size.\u001b[0m\u001b[0;34m\u001b[0m\u001b[0m\n\u001b[0;32m--> 792\u001b[0;31m                 exception_prefix='target')\n\u001b[0m\u001b[1;32m    793\u001b[0m \u001b[0;34m\u001b[0m\u001b[0m\n\u001b[1;32m    794\u001b[0m             \u001b[0;31m# Generate sample-wise weight values given the `sample_weight` and\u001b[0m\u001b[0;34m\u001b[0m\u001b[0;34m\u001b[0m\u001b[0m\n",
      "\u001b[0;32m~/anaconda3/lib/python3.6/site-packages/keras/engine/training_utils.py\u001b[0m in \u001b[0;36mstandardize_input_data\u001b[0;34m(data, names, shapes, check_batch_axis, exception_prefix)\u001b[0m\n\u001b[1;32m    124\u001b[0m                         \u001b[0;34m': expected '\u001b[0m \u001b[0;34m+\u001b[0m \u001b[0mnames\u001b[0m\u001b[0;34m[\u001b[0m\u001b[0mi\u001b[0m\u001b[0;34m]\u001b[0m \u001b[0;34m+\u001b[0m \u001b[0;34m' to have '\u001b[0m \u001b[0;34m+\u001b[0m\u001b[0;34m\u001b[0m\u001b[0m\n\u001b[1;32m    125\u001b[0m                         \u001b[0mstr\u001b[0m\u001b[0;34m(\u001b[0m\u001b[0mlen\u001b[0m\u001b[0;34m(\u001b[0m\u001b[0mshape\u001b[0m\u001b[0;34m)\u001b[0m\u001b[0;34m)\u001b[0m \u001b[0;34m+\u001b[0m \u001b[0;34m' dimensions, but got array '\u001b[0m\u001b[0;34m\u001b[0m\u001b[0m\n\u001b[0;32m--> 126\u001b[0;31m                         'with shape ' + str(data_shape))\n\u001b[0m\u001b[1;32m    127\u001b[0m                 \u001b[0;32mif\u001b[0m \u001b[0;32mnot\u001b[0m \u001b[0mcheck_batch_axis\u001b[0m\u001b[0;34m:\u001b[0m\u001b[0;34m\u001b[0m\u001b[0m\n\u001b[1;32m    128\u001b[0m                     \u001b[0mdata_shape\u001b[0m \u001b[0;34m=\u001b[0m \u001b[0mdata_shape\u001b[0m\u001b[0;34m[\u001b[0m\u001b[0;36m1\u001b[0m\u001b[0;34m:\u001b[0m\u001b[0;34m]\u001b[0m\u001b[0;34m\u001b[0m\u001b[0m\n",
      "\u001b[0;31mValueError\u001b[0m: Error when checking target: expected dense_157 to have 2 dimensions, but got array with shape (5000, 32, 32, 4)"
     ]
    }
   ],
   "source": [
    "cnn_model_info = cnn_model.fit(grayscale_train_1, train_class_scheme_1, batch_size=128, nb_epoch=5, validation_data=(grayscale_test_1, test_class_scheme_1), callbacks=callbacks_list)"
   ]
  }
 ],
 "metadata": {
  "kernelspec": {
   "display_name": "Python 3",
   "language": "python",
   "name": "python3"
  },
  "language_info": {
   "codemirror_mode": {
    "name": "ipython",
    "version": 3
   },
   "file_extension": ".py",
   "mimetype": "text/x-python",
   "name": "python",
   "nbconvert_exporter": "python",
   "pygments_lexer": "ipython3",
   "version": "3.6.6"
  }
 },
 "nbformat": 4,
 "nbformat_minor": 2
}
