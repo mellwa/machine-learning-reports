{
 "cells": [
  {
   "cell_type": "markdown",
   "metadata": {},
   "source": [
    "# INF 552 HW4 - Chao Chen"
   ]
  },
  {
   "cell_type": "markdown",
   "metadata": {},
   "source": [
    "## Question 1"
   ]
  },
  {
   "cell_type": "code",
   "execution_count": 1,
   "metadata": {},
   "outputs": [],
   "source": [
    "import sys\n",
    "import pandas as pd\n",
    "import numpy as np\n",
    "import bootstrapped.bootstrap as bs\n",
    "import bootstrapped.stats_functions as bs_stats\n",
    "import matplotlib.pyplot as plt\n",
    "import seaborn as sns\n",
    "import glob\n",
    "from sklearn.metrics import confusion_matrix, precision_score, f1_score\n",
    "from sklearn.preprocessing import Imputer\n",
    "import scipy.stats as stats\n",
    "import math\n",
    "\n",
    "\n",
    "%matplotlib inline\n",
    "\n",
    "import warnings\n",
    "warnings.filterwarnings('ignore')"
   ]
  },
  {
   "cell_type": "markdown",
   "metadata": {},
   "source": [
    "### (a)"
   ]
  },
  {
   "cell_type": "code",
   "execution_count": 2,
   "metadata": {},
   "outputs": [],
   "source": [
    "names = ['variance', 'skewness', 'curtosis', 'entropy', 'class']\n",
    "df = pd.read_csv('data_banknote_authentication.txt', header=None, names=names, na_values=[\"?\"])"
   ]
  },
  {
   "cell_type": "code",
   "execution_count": 3,
   "metadata": {},
   "outputs": [],
   "source": [
    "from sklearn.model_selection import train_test_split\n",
    "df_train, df_test = train_test_split(df, test_size=472, random_state=1)"
   ]
  },
  {
   "cell_type": "markdown",
   "metadata": {},
   "source": [
    "### (b)"
   ]
  },
  {
   "cell_type": "markdown",
   "metadata": {},
   "source": [
    "***(i)***"
   ]
  },
  {
   "cell_type": "code",
   "execution_count": 4,
   "metadata": {},
   "outputs": [
    {
     "name": "stdout",
     "output_type": "stream",
     "text": [
      "[ -3   2   7  13  18  24  29  34  40  45  51  56  62  67  72  78  83  89\n",
      "  94 100]\n",
      "[  1.00000000e-003   1.00000000e+002   1.00000000e+007   1.00000000e+013\n",
      "   1.00000000e+018   1.00000000e+024   1.00000000e+029   1.00000000e+034\n",
      "   1.00000000e+040   1.00000000e+045   1.00000000e+051   1.00000000e+056\n",
      "   1.00000000e+062   1.00000000e+067   1.00000000e+072   1.00000000e+078\n",
      "   1.00000000e+083   1.00000000e+089   1.00000000e+094   1.00000000e+100]\n"
     ]
    }
   ],
   "source": [
    "from sklearn.svm import LinearSVC\n",
    "df_train_x = df_train[df_train.columns[:-1]]\n",
    "df_train_y = df_train[df_train.columns[-1:]]\n",
    "df_test_x = df_test[df_test.columns[:-1]]\n",
    "df_test_y = df_test[df_test.columns[-1:]]\n",
    "\n",
    "# found good range is 1e-3 to 1e300\n",
    "# svc1 = LinearSVC(penalty='l1', C=1e100, dual=False)\n",
    "# print(svc1.fit(df_train_x, df_train_y).score(df_test_x, df_test_y))\n",
    "log_lbd = np.linspace(-3, 100, num=20, dtype=np.int32)\n",
    "print(log_lbd)\n",
    "lbd = np.power(10, log_lbd.astype(float))\n",
    "print(lbd)"
   ]
  },
  {
   "cell_type": "code",
   "execution_count": 5,
   "metadata": {},
   "outputs": [],
   "source": [
    "from sklearn.model_selection import GridSearchCV\n",
    "\n",
    "test_errors1 = np.zeros((50, 90))\n",
    "                        \n",
    "for i in range(50):\n",
    "    cur_train = pd.DataFrame()\n",
    "    sub_df_train = df\n",
    "    for j in range(90):\n",
    "        sub_df_train, sub_cur_train = train_test_split(sub_df_train, test_size=10, random_state=1) \n",
    "        cur_train = pd.concat([cur_train, sub_cur_train])\n",
    "        svc = LinearSVC(penalty='l1', dual=False)\n",
    "        params = {'C': lbd}\n",
    "        \n",
    "        cur_train_x, cur_train_y = cur_train[cur_train.columns[:-1]], cur_train[cur_train.columns[-1:]]\n",
    "        cv_n = min(cur_train_y.shape[0], cur_train_y.sum()[0], 10)\n",
    "        clf = GridSearchCV(svc, cv=cv_n, param_grid=params, refit=True)\n",
    "        clf.fit(cur_train_x, cur_train_y)\n",
    "        \n",
    "        best_svc = clf.best_estimator_\n",
    "        best_svc.fit(cur_train_x, cur_train_y)\n",
    "        test_errors1[i, j] = 1 - best_svc.score(df_test_x, df_test_y)"
   ]
  },
  {
   "cell_type": "markdown",
   "metadata": {},
   "source": [
    "***(ii)***"
   ]
  },
  {
   "cell_type": "code",
   "execution_count": 45,
   "metadata": {},
   "outputs": [],
   "source": [
    "from sklearn.svm import SVC\n",
    "test_errors2 = np.zeros((50, 90))\n",
    "                        \n",
    "for i in range(50):\n",
    "    cur_train = pd.DataFrame()\n",
    "    sub_df_train = df\n",
    "    sub_df_train, sub_cur_train = train_test_split(sub_df_train, test_size=10, random_state=1) \n",
    "    for j in range(90):\n",
    "        cur_train = pd.concat([cur_train, sub_cur_train])\n",
    "        svc = LinearSVC(penalty='l1', dual=False)\n",
    "        params = {'C': lbd}\n",
    "        \n",
    "        cur_train_x, cur_train_y = cur_train[cur_train.columns[:-1]], cur_train[cur_train.columns[-1:]]\n",
    "        cv_n = min(cur_train_y.shape[0], cur_train_y.sum()[0], 10)\n",
    "        clf = GridSearchCV(svc, cv=cv_n, param_grid=params, refit=True)\n",
    "        clf.fit(cur_train_x, cur_train_y)\n",
    "        \n",
    "        best_svc = clf.best_estimator_\n",
    "        best_svc.fit(cur_train_x, cur_train_y)\n",
    "        test_errors2[i, j] = 1 - best_svc.score(df_test_x, df_test_y)\n",
    "        \n",
    "        #find 10 closest points\n",
    "        sub_df_train_x = sub_df_train[sub_df_train.columns[:-1]]\n",
    "        dists = np.abs(best_svc.decision_function(sub_df_train_x))\n",
    "        sub_cur_train = sub_df_train.iloc[dists.argsort()[:10]]\n",
    "    \n",
    "        "
   ]
  },
  {
   "cell_type": "code",
   "execution_count": 47,
   "metadata": {},
   "outputs": [
    {
     "data": {
      "text/plain": [
       "<matplotlib.legend.Legend at 0x113ad01d0>"
      ]
     },
     "execution_count": 47,
     "metadata": {},
     "output_type": "execute_result"
    },
    {
     "data": {
      "image/png": "[encoded data removed]",
      "text/plain": [
       "<matplotlib.figure.Figure at 0x113a8ccc0>"
      ]
     },
     "metadata": {},
     "output_type": "display_data"
    }
   ],
   "source": [
    "mean_test_error1 = test_errors1.mean(axis=0)\n",
    "mean_test_error2 = test_errors2.mean(axis=0)\n",
    "num_train = np.arange(10, 910, 10)\n",
    "\n",
    "fig, ax = plt.subplots()\n",
    "ax.plot(num_train, mean_test_error1, '-', color='blue', label='(i) passive learning')\n",
    "ax.plot(num_train, mean_test_error2, '-', color='red', label='(ii) active learning')\n",
    "ax.legend()\n",
    "\n",
    "\n"
   ]
  },
  {
   "cell_type": "markdown",
   "metadata": {},
   "source": [
    "***Conclusions***:\n",
    "\n",
    "1. As the number of training instances increases, the average test error for both passive and active learning first decreases significantly and then become relatively stable.\n",
    "\n",
    "2. The test error of passive learning fluctuates more than active learning. Active learning is more stable.\n",
    "\n",
    "3. The test errors become relatively stable when number of instances is greater than 100."
   ]
  },
  {
   "cell_type": "markdown",
   "metadata": {},
   "source": [
    "# Question 2"
   ]
  },
  {
   "cell_type": "markdown",
   "metadata": {},
   "source": [
    "### (a)"
   ]
  },
  {
   "cell_type": "code",
   "execution_count": 48,
   "metadata": {},
   "outputs": [],
   "source": [
    "df2 = pd.read_csv('./Anuran Calls (MFCCs)/Frogs_MFCCs.csv', header=0)\n",
    "df2_train, df2_test = train_test_split(df2, test_size=0.3, random_state=1)"
   ]
  },
  {
   "cell_type": "code",
   "execution_count": 56,
   "metadata": {},
   "outputs": [],
   "source": [
    "train_family = df2_train[df2_train.columns[-4]]\n",
    "train_genus = df2_train[df2_train.columns[-3]]\n",
    "train_species = df2_train[df2_train.columns[-2]]\n",
    "df2_train_x = df2_train[df2_train.columns[:-4]]\n",
    "\n",
    "test_family = df2_test[df2_test.columns[-4]]\n",
    "test_genus = df2_test[df2_test.columns[-3]]\n",
    "test_species = df2_test[df2_test.columns[-2]]\n",
    "df2_test_x = df2_test[df2_test.columns[:-4]]"
   ]
  },
  {
   "cell_type": "markdown",
   "metadata": {},
   "source": [
    "### (b)"
   ]
  },
  {
   "cell_type": "markdown",
   "metadata": {},
   "source": [
    "***(i)***\n",
    "\n",
    "Exact match is the proporation of labels that are exactly correct.\n",
    "\n",
    "Hamming loss is the fraction of the wrong labels to the total number of labels."
   ]
  },
  {
   "cell_type": "markdown",
   "metadata": {},
   "source": [
    "***(ii)***"
   ]
  },
  {
   "cell_type": "code",
   "execution_count": 59,
   "metadata": {},
   "outputs": [],
   "source": [
    "# use both exact match and Hamming loss\n",
    "svc_family = SVC(decision_function_shape='ovr', kernel='rbf')\n",
    "gamma_list = np.arange(0.1, 2.1, 0.1)\n",
    "params2 = {'C': lbd, 'gamma': gamma_list}\n",
    "clf_family = GridSearchCV(svc_family, cv=10, param_grid=params2, refit=True)\n",
    "clf_family.fit(df2_train_x, train_family)\n",
    "\n",
    "best_svc_family = clf_family.best_estimator_\n",
    "best_svc_family.fit(df2_train_x, train_family)\n",
    "pred_family = best_svc_family.predict(df2_test_x)"
   ]
  },
  {
   "cell_type": "code",
   "execution_count": 60,
   "metadata": {},
   "outputs": [],
   "source": [
    "svc_genus = SVC(decision_function_shape='ovr', kernel='rbf')\n",
    "clf_genus = GridSearchCV(svc_genus, cv=10, param_grid=params2, refit=True)\n",
    "clf_genus.fit(df2_train_x, train_genus)\n",
    "\n",
    "best_svc_genus = clf_genus.best_estimator_\n",
    "best_svc_genus.fit(df2_train_x, train_genus)\n",
    "pred_genus = best_svc_genus.predict(df2_test_x)"
   ]
  },
  {
   "cell_type": "code",
   "execution_count": 61,
   "metadata": {},
   "outputs": [],
   "source": [
    "svc_spc = SVC(decision_function_shape='ovr', kernel='rbf')\n",
    "clf_spc = GridSearchCV(svc_spc, cv=10, param_grid=params2, refit=True)\n",
    "clf_spc.fit(df2_train_x, train_species)\n",
    "\n",
    "best_svc_spc = clf_spc.best_estimator_\n",
    "best_svc_spc.fit(df2_train_x, train_species)\n",
    "pred_spc = best_svc_spc.predict(df2_test_x)"
   ]
  },
  {
   "cell_type": "code",
   "execution_count": 84,
   "metadata": {},
   "outputs": [
    {
     "name": "stdout",
     "output_type": "stream",
     "text": [
      "Exact match score:0.989501312336\n",
      "Hamming loss:0.010498687664\n"
     ]
    }
   ],
   "source": [
    "from sklearn.metrics import accuracy_score, hamming_loss\n",
    "exact_match2 = (accuracy_score(test_family, pred_family) + accuracy_score(test_genus, pred_genus) + accuracy_score(test_species, pred_spc))/3\n",
    "hamming_loss2 = (hamming_loss(test_family, pred_family) + hamming_loss(test_genus, pred_genus) + hamming_loss(test_species, pred_spc))/3\n",
    "\n",
    "print('Exact match score:' + str(exact_match2))\n",
    "print('Hamming loss:' + str(hamming_loss2))"
   ]
  },
  {
   "cell_type": "markdown",
   "metadata": {},
   "source": [
    "***(iii)***"
   ]
  },
  {
   "cell_type": "code",
   "execution_count": 67,
   "metadata": {},
   "outputs": [],
   "source": [
    "from sklearn.preprocessing import StandardScaler\n",
    "scl = StandardScaler()\n",
    "df2_train_x_norm = scl.fit_transform(df2_train_x)\n",
    "df2_test_x_norm = scl.transform(df2_test_x)"
   ]
  },
  {
   "cell_type": "code",
   "execution_count": 70,
   "metadata": {},
   "outputs": [],
   "source": [
    "svc_family3 = LinearSVC(penalty='l1', multi_class='ovr', dual=False)\n",
    "clf_family3 = GridSearchCV(svc_family3, cv=10, param_grid=params, refit=True)\n",
    "clf_family3.fit(df2_train_x_norm, train_family)\n",
    "\n",
    "best_svc_family3 = clf_family3.best_estimator_\n",
    "best_svc_family3.fit(df2_train_x_norm, train_family)\n",
    "pred_family3 = best_svc_family3.predict(df2_test_x_norm)"
   ]
  },
  {
   "cell_type": "code",
   "execution_count": 71,
   "metadata": {},
   "outputs": [],
   "source": [
    "svc_genus3 = LinearSVC(penalty='l1', multi_class='ovr', dual=False)\n",
    "clf_genus3 = GridSearchCV(svc_genus3, cv=10, param_grid=params, refit=True)\n",
    "clf_genus3.fit(df2_train_x_norm, train_genus)\n",
    "\n",
    "best_svc_genus3 = clf_genus3.best_estimator_\n",
    "best_svc_genus3.fit(df2_train_x_norm, train_genus)\n",
    "pred_genus3 = best_svc_genus3.predict(df2_test_x_norm)"
   ]
  },
  {
   "cell_type": "code",
   "execution_count": 72,
   "metadata": {},
   "outputs": [],
   "source": [
    "svc_spc3 = LinearSVC(penalty='l1', multi_class='ovr', dual=False)\n",
    "clf_spc3 = GridSearchCV(svc_spc3, cv=10, param_grid=params, refit=True)\n",
    "clf_spc3.fit(df2_train_x_norm, train_species)\n",
    "\n",
    "best_svc_spc3 = clf_spc3.best_estimator_\n",
    "best_svc_spc3.fit(df2_train_x_norm, train_species)\n",
    "pred_spc3 = best_svc_spc3.predict(df2_test_x_norm)"
   ]
  },
  {
   "cell_type": "code",
   "execution_count": 85,
   "metadata": {},
   "outputs": [
    {
     "name": "stdout",
     "output_type": "stream",
     "text": [
      "Exact match score:0.946117029489\n",
      "Hamming loss:0.053882970511\n"
     ]
    }
   ],
   "source": [
    "exact_match3 = (accuracy_score(test_family, pred_family3) + accuracy_score(test_genus, pred_genus3) + accuracy_score(test_species, pred_spc3))/3\n",
    "hamming_loss3 = (hamming_loss(test_family, pred_family3) + hamming_loss(test_genus, pred_genus3) + hamming_loss(test_species, pred_spc3))/3\n",
    "\n",
    "print('Exact match score:' + str(exact_match3))\n",
    "print('Hamming loss:' + str(hamming_loss3))"
   ]
  },
  {
   "cell_type": "markdown",
   "metadata": {},
   "source": [
    "***(iv)***"
   ]
  },
  {
   "cell_type": "code",
   "execution_count": 86,
   "metadata": {},
   "outputs": [],
   "source": [
    "from imblearn.over_sampling import SMOTE\n",
    "smote = SMOTE()\n",
    "x_family_sm, y_family_sm = smote.fit_sample(df2_train_x_norm, train_family)\n",
    "\n",
    "svc_family4 = LinearSVC(penalty='l1', multi_class='ovr', dual=False)\n",
    "clf_family4 = GridSearchCV(svc_family4, cv=10, param_grid=params, refit=True)\n",
    "clf_family4.fit(x_family_sm, y_family_sm)\n",
    "\n",
    "best_svc_family4 = clf_family4.best_estimator_\n",
    "best_svc_family4.fit(x_family_sm, y_family_sm)\n",
    "pred_family4 = best_svc_family4.predict(df2_test_x_norm)"
   ]
  },
  {
   "cell_type": "code",
   "execution_count": 87,
   "metadata": {},
   "outputs": [],
   "source": [
    "smote = SMOTE()\n",
    "x_genus_sm, y_genus_sm = smote.fit_sample(df2_train_x_norm, train_genus)\n",
    "\n",
    "svc_genus4 = LinearSVC(penalty='l1', multi_class='ovr', dual=False)\n",
    "clf_genus4 = GridSearchCV(svc_genus4, cv=10, param_grid=params, refit=True)\n",
    "clf_genus4.fit(x_genus_sm, y_genus_sm)\n",
    "\n",
    "best_svc_genus4 = clf_genus4.best_estimator_\n",
    "best_svc_genus4.fit(x_genus_sm, y_genus_sm)\n",
    "pred_genus4 = best_svc_genus4.predict(df2_test_x_norm)"
   ]
  },
  {
   "cell_type": "code",
   "execution_count": 88,
   "metadata": {},
   "outputs": [],
   "source": [
    "smote = SMOTE()\n",
    "x_spc_sm, y_spc_sm = smote.fit_sample(df2_train_x_norm, train_species)\n",
    "\n",
    "svc_spc4 = LinearSVC(penalty='l1', multi_class='ovr', dual=False)\n",
    "clf_spc4 = GridSearchCV(svc_spc4, cv=10, param_grid=params, refit=True)\n",
    "clf_spc4.fit(x_spc_sm, y_spc_sm)\n",
    "\n",
    "best_svc_spc4 = clf_spc4.best_estimator_\n",
    "best_svc_spc4.fit(x_spc_sm, y_spc_sm)\n",
    "pred_spc4 = best_svc_spc4.predict(df2_test_x_norm)"
   ]
  },
  {
   "cell_type": "code",
   "execution_count": 89,
   "metadata": {},
   "outputs": [
    {
     "name": "stdout",
     "output_type": "stream",
     "text": [
      "Exact match score:0.935927126756\n",
      "Hamming loss:0.0640728732438\n"
     ]
    }
   ],
   "source": [
    "exact_match4 = (accuracy_score(test_family, pred_family4) + accuracy_score(test_genus, pred_genus4) + accuracy_score(test_species, pred_spc4))/3\n",
    "hamming_loss4 = (hamming_loss(test_family, pred_family4) + hamming_loss(test_genus, pred_genus4) + hamming_loss(test_species, pred_spc4))/3\n",
    "\n",
    "print('Exact match score:' + str(exact_match4))\n",
    "print('Hamming loss:' + str(hamming_loss4))"
   ]
  },
  {
   "cell_type": "markdown",
   "metadata": {},
   "source": [
    "***Conclusions:***\n",
    "\n",
    "1. The exact match score of using Gaussian kernel in (ii) is smaller than the other two.\n",
    "\n",
    "2. The hamming loss of using L1-penalized SVM is smaller.\n",
    "\n",
    "3. SMOTE does not increase the performance of L1-penalized SVM in this case."
   ]
  },
  {
   "cell_type": "markdown",
   "metadata": {},
   "source": [
    "## Question 3"
   ]
  },
  {
   "cell_type": "code",
   "execution_count": 120,
   "metadata": {},
   "outputs": [],
   "source": [
    "scl = StandardScaler()\n",
    "\n",
    "df2_family = df2[df2.columns[-4]]\n",
    "df2_genus = df2[df2.columns[-3]]\n",
    "df2_species = df2[df2.columns[-2]]\n",
    "df2_x = df2[df2.columns[:-4]]\n",
    "\n",
    "df2_x_norm = scl.fit_transform(df2_x)"
   ]
  },
  {
   "cell_type": "code",
   "execution_count": 121,
   "metadata": {},
   "outputs": [],
   "source": [
    "from sklearn.preprocessing import LabelEncoder \n",
    "le = LabelEncoder()\n",
    "df2_family_le = le.fit_transform(df2_family)\n",
    "df2_genus_le = le.fit_transform(df2_genus)\n",
    "df2_spc_le = le.fit_transform(df2_species)"
   ]
  },
  {
   "cell_type": "code",
   "execution_count": 124,
   "metadata": {},
   "outputs": [],
   "source": [
    "from sklearn.metrics import calinski_harabaz_score\n",
    "from sklearn.cluster import KMeans\n",
    "\n",
    "ham_dist = np.zeros(50)\n",
    "\n",
    "for h in range(50):\n",
    "    CH_list = []\n",
    "    k_range = np.arange(2, 21, 1)\n",
    "    for k in k_range:\n",
    "        kmeans = KMeans(n_clusters=k, init='random')\n",
    "        pred = kmeans.fit_predict(df2_x_norm)\n",
    "        CH_list.append(calinski_harabaz_score(df2_x_norm, pred))\n",
    "\n",
    "    best_k = k_range[np.argmax(CH_list)]\n",
    "    best_kmeans = KMeans(n_clusters=best_k, init='random')\n",
    "    best_kmeans.fit(df2_x_norm)\n",
    "\n",
    "    pred_family5 = np.zeros(df2_family_le.shape[0])\n",
    "    pred_genus5 = np.zeros(df2_family_le.shape[0])\n",
    "    pred_spc5 = np.zeros(df2_family_le.shape[0])\n",
    "\n",
    "    for i in range(best_k):\n",
    "        ind = np.where(best_kmeans.labels_ == i)[0]\n",
    "        family_lab = df2_family_le[ind]\n",
    "        genus_lab = df2_genus_le[ind]\n",
    "        spc_lab = df2_spc_le[ind]\n",
    "\n",
    "        pred_family5[ind] = np.bincount(family_lab).argmax()\n",
    "        pred_genus5[ind] = np.bincount(genus_lab).argmax()\n",
    "        pred_spc5[ind] = np.bincount(spc_lab).argmax()\n",
    "\n",
    "    hamming_loss5 = (hamming_loss(df2_family_le, pred_family5) + hamming_loss(df2_genus_le, pred_genus5) + hamming_loss(df2_spc_le, pred_spc5))/3\n",
    "    ham_dist[h] = hamming_loss5\n",
    "\n",
    "    "
   ]
  },
  {
   "cell_type": "code",
   "execution_count": 126,
   "metadata": {},
   "outputs": [
    {
     "name": "stdout",
     "output_type": "stream",
     "text": [
      "Avergae of Hamming Distances: 0.298031040074\n",
      "Standard deviation of Hamming Distances: 5.55111512313e-17\n"
     ]
    }
   ],
   "source": [
    "print(\"Avergae of Hamming Distances: \" + str(np.mean(ham_dist)))\n",
    "print(\"Standard deviation of Hamming Distances: \" + str(np.std(ham_dist)))"
   ]
  },
  {
   "cell_type": "markdown",
   "metadata": {},
   "source": [
    "## Question 4 (ISLR 10.7.2)"
   ]
  },
  {
   "cell_type": "markdown",
   "metadata": {},
   "source": [
    "### (a)"
   ]
  },
  {
   "cell_type": "code",
   "execution_count": 108,
   "metadata": {},
   "outputs": [
    {
     "data": {
      "text/plain": [
       "{'color_list': ['g', 'r', 'b'],\n",
       " 'dcoord': [[0.0, 0.44721359549995793, 0.44721359549995793, 0.0],\n",
       "  [0.0, 0.76485292703891772, 0.76485292703891772, 0.0],\n",
       "  [0.44721359549995793,\n",
       "   1.2010412149464313,\n",
       "   1.2010412149464313,\n",
       "   0.76485292703891772]],\n",
       " 'icoord': [[5.0, 5.0, 15.0, 15.0],\n",
       "  [25.0, 25.0, 35.0, 35.0],\n",
       "  [10.0, 10.0, 30.0, 30.0]],\n",
       " 'ivl': [1, 2, 3, 4],\n",
       " 'leaves': [0, 1, 2, 3]}"
      ]
     },
     "execution_count": 108,
     "metadata": {},
     "output_type": "execute_result"
    },
    {
     "data": {
      "image/png": "[encoded data removed]",
      "text/plain": [
       "<matplotlib.figure.Figure at 0x115b145f8>"
      ]
     },
     "metadata": {},
     "output_type": "display_data"
    }
   ],
   "source": [
    "from scipy.cluster.hierarchy import dendrogram, linkage\n",
    "d = np.matrix([[0, 0.3, 0.4, 0.7], [0.3, 0, 0.5, 0.8], [0.4, 0.5, 0, 0.45], [0.7, 0.8, 0.45, 0]])\n",
    "z = linkage(d, method='complete')\n",
    "dendrogram(z, labels=[1,2,3,4])"
   ]
  },
  {
   "cell_type": "markdown",
   "metadata": {},
   "source": [
    "### (b)"
   ]
  },
  {
   "cell_type": "code",
   "execution_count": 109,
   "metadata": {},
   "outputs": [
    {
     "data": {
      "text/plain": [
       "{'color_list': ['g', 'b', 'b'],\n",
       " 'dcoord': [[0.0, 0.44721359549995793, 0.44721359549995793, 0.0],\n",
       "  [0.0, 0.65000000000000002, 0.65000000000000002, 0.44721359549995793],\n",
       "  [0.0, 0.76485292703891772, 0.76485292703891772, 0.65000000000000002]],\n",
       " 'icoord': [[25.0, 25.0, 35.0, 35.0],\n",
       "  [15.0, 15.0, 30.0, 30.0],\n",
       "  [5.0, 5.0, 22.5, 22.5]],\n",
       " 'ivl': [4, 3, 1, 2],\n",
       " 'leaves': [3, 2, 0, 1]}"
      ]
     },
     "execution_count": 109,
     "metadata": {},
     "output_type": "execute_result"
    },
    {
     "data": {
      "image/png": "[encoded data removed]",
      "text/plain": [
       "<matplotlib.figure.Figure at 0x115b1a240>"
      ]
     },
     "metadata": {},
     "output_type": "display_data"
    }
   ],
   "source": [
    "z2 = linkage(d, method='single')\n",
    "dendrogram(z2, labels=[1,2,3,4])"
   ]
  },
  {
   "cell_type": "markdown",
   "metadata": {},
   "source": [
    "### (c)\n",
    "1st and 2nd observations are in one cluster. \n",
    "\n",
    "3rd and 4th observations are in the other cluster."
   ]
  },
  {
   "cell_type": "markdown",
   "metadata": {},
   "source": [
    "### (d)\n",
    "1st, 2nd and 3rd observations are in one cluster.\n",
    "\n",
    "4th observation is in the other cluster.\n"
   ]
  },
  {
   "cell_type": "markdown",
   "metadata": {},
   "source": [
    "### (e)"
   ]
  },
  {
   "cell_type": "code",
   "execution_count": 110,
   "metadata": {},
   "outputs": [
    {
     "data": {
      "text/plain": [
       "{'color_list': ['g', 'r', 'b'],\n",
       " 'dcoord': [[0.0, 0.44721359549995793, 0.44721359549995793, 0.0],\n",
       "  [0.0, 0.76485292703891772, 0.76485292703891772, 0.0],\n",
       "  [0.44721359549995793,\n",
       "   1.2010412149464313,\n",
       "   1.2010412149464313,\n",
       "   0.76485292703891772]],\n",
       " 'icoord': [[5.0, 5.0, 15.0, 15.0],\n",
       "  [25.0, 25.0, 35.0, 35.0],\n",
       "  [10.0, 10.0, 30.0, 30.0]],\n",
       " 'ivl': [2, 1, 4, 3],\n",
       " 'leaves': [0, 1, 2, 3]}"
      ]
     },
     "execution_count": 110,
     "metadata": {},
     "output_type": "execute_result"
    },
    {
     "data": {
      "image/png": "[encoded data removed]",
      "text/plain": [
       "<matplotlib.figure.Figure at 0x116754320>"
      ]
     },
     "metadata": {},
     "output_type": "display_data"
    }
   ],
   "source": [
    "dendrogram(z, labels=[2,1,4,3])"
   ]
  },
  {
   "cell_type": "code",
   "execution_count": null,
   "metadata": {},
   "outputs": [],
   "source": []
  }
 ],
 "metadata": {
  "kernelspec": {
   "display_name": "Python 3",
   "language": "python",
   "name": "python3"
  },
  "language_info": {
   "codemirror_mode": {
    "name": "ipython",
    "version": 3
   },
   "file_extension": ".py",
   "mimetype": "text/x-python",
   "name": "python",
   "nbconvert_exporter": "python",
   "pygments_lexer": "ipython3",
   "version": "3.6.3"
  }
 },
 "nbformat": 4,
 "nbformat_minor": 2
}
